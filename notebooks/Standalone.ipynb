{
 "cells": [
  {
   "cell_type": "code",
   "execution_count": 1,
   "id": "c6de45be",
   "metadata": {},
   "outputs": [
    {
     "name": "stderr",
     "output_type": "stream",
     "text": [
      "/home/kjetil/projects/phnn_gitlab/.venv/lib/python3.10/site-packages/tqdm/auto.py:22: TqdmWarning: IProgress not found. Please update jupyter and ipywidgets. See https://ipywidgets.readthedocs.io/en/stable/user_install.html\n",
      "  from .autonotebook import tqdm as notebook_tqdm\n"
     ]
    }
   ],
   "source": [
    "import torch\n",
    "import torch.nn as nn\n",
    "import numpy as np\n",
    "import matplotlib.pyplot as plt\n",
    "import glob\n",
    "import os\n",
    "from tqdm import tqdm, trange\n",
    "\n",
    "\n",
    "nx, ny, nz = 16, 16, 16\n",
    "def make_conv():\n",
    "    dnn_down = nn.Sequential(\n",
    "        nn.Conv1d(1, 16, 3, padding=1),\n",
    "        nn.MaxPool1d(2,2),\n",
    "        nn.ReLU(),\n",
    "        nn.Conv1d(16, 1, 3, padding=1),\n",
    "        nn.MaxPool1d(2,2))\n",
    "    \n",
    "    dnn_up = nn.Sequential(\n",
    "        nn.ConvTranspose1d(1, 16, 2, stride=2),\n",
    "        #nn.ReLU(),\n",
    "        #nn.ConvTranspose1d(16, 16, 2, stride=2),\n",
    "        nn.ReLU(),\n",
    "        nn.ConvTranspose1d(16, 1, 2, stride=2))\n",
    "    return dnn_down, dnn_up\n",
    "\n",
    "class NeuralNetwork(nn.Module):\n",
    "    def __init__(self):\n",
    "        super(NeuralNetwork, self).__init__()\n",
    "        self.dnn_down, self.dnn_up = make_conv()\n",
    "\n",
    "    def forward(self, x):\n",
    "        return self.dnn_up(self.dnn_down(x))\n",
    "    \n",
    "model = NeuralNetwork()\n",
    "\n",
    "data_basepath = '/home/kjetil/projects/across/machinelearning/across_review/ert_example/'"
   ]
  },
  {
   "cell_type": "code",
   "execution_count": 2,
   "id": "76761b91",
   "metadata": {},
   "outputs": [],
   "source": [
    "dnn = make_conv()"
   ]
  },
  {
   "cell_type": "code",
   "execution_count": 3,
   "id": "531916c2",
   "metadata": {},
   "outputs": [],
   "source": [
    "def generate_sample(nx, ny, nz):\n",
    "    parameter = np.random.uniform(0.0, 1.0)\n",
    "    x, y, z = np.mgrid[0:1:nx*1j, 0:1:ny*1j, 0:1:nz*1j]\n",
    "    \n",
    "    return (x + y + parameter * z).astype(np.float32).reshape(1, nx, ny, nz)\n",
    "\n",
    "def generate_data(ns, nx, ny, nz):\n",
    "    all_samples = []\n",
    "    for _ in range(ns):\n",
    "        all_samples.append(generate_sample(nx, ny, nz))\n",
    "    \n",
    "    return torch.tensor(all_samples)\n",
    "\n",
    "def get_data(path):\n",
    "    return np.loadtxt(path).reshape(1, 10*10*3)\n",
    "\n",
    "def get_all_data_from_file(basepath):\n",
    "    all_data_files = glob.glob(os.path.join(basepath, 'data/data_*.txt'))\n",
    "    all_data = []\n",
    "    \n",
    "    for fname in all_data_files:\n",
    "        new_data = get_data(fname).astype(np.float32)\n",
    "        all_data.append(new_data)\n",
    "    print(f\"{len(all_data)=}\")\n",
    "    return torch.tensor(all_data)"
   ]
  },
  {
   "cell_type": "code",
   "execution_count": 4,
   "id": "d888ab42",
   "metadata": {},
   "outputs": [
    {
     "name": "stdout",
     "output_type": "stream",
     "text": [
      "len(all_data)=120000\n"
     ]
    },
    {
     "name": "stderr",
     "output_type": "stream",
     "text": [
      "/tmp/ipykernel_897255/954534205.py:25: UserWarning: Creating a tensor from a list of numpy.ndarrays is extremely slow. Please consider converting the list to a single numpy.ndarray with numpy.array() before converting to a tensor. (Triggered internally at ../torch/csrc/utils/tensor_new.cpp:230.)\n",
      "  return torch.tensor(all_data)\n"
     ]
    }
   ],
   "source": [
    "data = get_all_data_from_file(data_basepath)"
   ]
  },
  {
   "cell_type": "code",
   "execution_count": 5,
   "id": "3c665472",
   "metadata": {},
   "outputs": [
    {
     "name": "stdout",
     "output_type": "stream",
     "text": [
      "model.forward(data).shape=torch.Size([120000, 1, 300])\n",
      "data.shape=torch.Size([120000, 1, 300])\n",
      "nn.MSELoss()(model.forward(data), data)=tensor(144394.7656, grad_fn=<MseLossBackward0>)\n"
     ]
    }
   ],
   "source": [
    "print(f\"{model.forward(data).shape=}\")\n",
    "print(f\"{data.shape=}\")\n",
    "print(f\"{nn.MSELoss()(model.forward(data), data)=}\")"
   ]
  },
  {
   "cell_type": "code",
   "execution_count": 6,
   "id": "afb9eae2",
   "metadata": {},
   "outputs": [
    {
     "data": {
      "text/plain": [
       "torch.Size([120000, 1, 300])"
      ]
     },
     "execution_count": 6,
     "metadata": {},
     "output_type": "execute_result"
    }
   ],
   "source": [
    "data.shape"
   ]
  },
  {
   "cell_type": "code",
   "execution_count": null,
   "id": "c26f506d",
   "metadata": {},
   "outputs": [
    {
     "name": "stderr",
     "output_type": "stream",
     "text": [
      " 54%|█████▉     | 54/100 [10:22<11:26, 14.93s/it, epoch=54, shape=torch.Size([32, 1, 300]), train_loss=2.08e+3]"
     ]
    }
   ],
   "source": [
    "optimizer = torch.optim.Adam(model.parameters(), lr=0.001)\n",
    "n_epochs = 100\n",
    "loss_function = nn.MSELoss()\n",
    "train_loader = torch.utils.data.DataLoader(data, batch_size=32, num_workers=0)\n",
    "loss_per_epoch = []\n",
    "with trange(1, n_epochs + 1) as t:\n",
    "    for epoch in t:\n",
    "        train_loss = 0.0\n",
    "\n",
    "        for samples in train_loader:\n",
    "            optimizer.zero_grad()\n",
    "            outputs = model(samples)\n",
    "            loss = loss_function(outputs, samples)\n",
    "            loss.backward()\n",
    "            optimizer.step()\n",
    "            train_loss += loss.item()*samples.size(0)\n",
    "\n",
    "        train_loss = train_loss/len(train_loader)\n",
    "        t.set_postfix(epoch=epoch, train_loss=train_loss, shape=samples.shape)\n",
    "        loss_per_epoch.append(train_loss)\n",
    "        \n",
    "plt.loglog(np.arange(1, n_epochs+1), loss_per_epoch)\n",
    "plt.xlabel(\"Epoch\")\n",
    "plt.ylabel(\"MSE Loss\")\n",
    "plt.show()"
   ]
  },
  {
   "cell_type": "code",
   "execution_count": null,
   "id": "36fd7c21",
   "metadata": {},
   "outputs": [],
   "source": [
    "x = torch.tensor(np.zeros((4,5)))"
   ]
  },
  {
   "cell_type": "code",
   "execution_count": null,
   "id": "5598dc62",
   "metadata": {},
   "outputs": [],
   "source": [
    "model.dnn_down(data[0, :, :]).shape"
   ]
  },
  {
   "cell_type": "code",
   "execution_count": null,
   "id": "cb6c4bb9",
   "metadata": {},
   "outputs": [],
   "source": []
  }
 ],
 "metadata": {
  "kernelspec": {
   "display_name": "phnn_latest",
   "language": "python",
   "name": "phnn_latest"
  },
  "language_info": {
   "codemirror_mode": {
    "name": "ipython",
    "version": 3
   },
   "file_extension": ".py",
   "mimetype": "text/x-python",
   "name": "python",
   "nbconvert_exporter": "python",
   "pygments_lexer": "ipython3",
   "version": "3.10.9"
  }
 },
 "nbformat": 4,
 "nbformat_minor": 5
}
