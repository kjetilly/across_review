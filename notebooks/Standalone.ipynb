{
 "cells": [
  {
   "cell_type": "code",
   "execution_count": 1,
   "id": "c6de45be",
   "metadata": {},
   "outputs": [
    {
     "name": "stderr",
     "output_type": "stream",
     "text": [
      "/home/kjetil/projects/phnn_gitlab/.venv/lib/python3.10/site-packages/tqdm/auto.py:22: TqdmWarning: IProgress not found. Please update jupyter and ipywidgets. See https://ipywidgets.readthedocs.io/en/stable/user_install.html\n",
      "  from .autonotebook import tqdm as notebook_tqdm\n"
     ]
    }
   ],
   "source": [
    "import torch\n",
    "import torch.nn as nn\n",
    "import numpy as np\n",
    "import matplotlib.pyplot as plt\n",
    "import glob\n",
    "import os\n",
    "from tqdm import tqdm, trange\n",
    "\n",
    "import sys\n",
    "sys.path.append('../docker/damaris-scripts/')\n",
    "from machine_learning_across import *\n",
    "\n",
    "data_basepath = '/home/kjetil/projects/across/machinelearning/across_review/ert_example/'"
   ]
  },
  {
   "cell_type": "code",
   "execution_count": 2,
   "id": "76761b91",
   "metadata": {},
   "outputs": [],
   "source": [
    "model = NeuralNetwork()"
   ]
  },
  {
   "cell_type": "code",
   "execution_count": 3,
   "id": "531916c2",
   "metadata": {},
   "outputs": [],
   "source": [
    "def generate_sample(nx, ny, nz):\n",
    "    parameter = np.random.uniform(0.0, 1.0)\n",
    "    x, y, z = np.mgrid[0:1:nx*1j, 0:1:ny*1j, 0:1:nz*1j]\n",
    "    \n",
    "    return (x + y + parameter * z).astype(np.float32).reshape(1, nx, ny, nz)\n",
    "\n",
    "def generate_data(ns, nx, ny, nz):\n",
    "    all_samples = []\n",
    "    for _ in range(ns):\n",
    "        all_samples.append(generate_sample(nx, ny, nz))\n",
    "    \n",
    "    return torch.tensor(all_samples)\n",
    "\n",
    "def get_data(path):\n",
    "    data = reorder_data(np.loadtxt(path))\n",
    "    shape = data.shape\n",
    "    return data.reshape(1, *shape)\n",
    "\n",
    "def get_all_data_from_file(basepath):\n",
    "    all_data_files = glob.glob(os.path.join(basepath, 'data_big/larger_data_*.txt'))\n",
    "    all_data = []\n",
    "    \n",
    "    for fname in tqdm(all_data_files):\n",
    "        try:\n",
    "            new_data = get_data(fname).astype(np.float32)\n",
    "            all_data.append(new_data)\n",
    "        except IndexError:\n",
    "            pass\n",
    "    print(f\"{len(all_data)=}\")\n",
    "    return torch.tensor(all_data)"
   ]
  },
  {
   "cell_type": "code",
   "execution_count": 4,
   "id": "d888ab42",
   "metadata": {},
   "outputs": [
    {
     "name": "stderr",
     "output_type": "stream",
     "text": [
      "  2%|████▎                                                                                                                                                                                      | 2668/114124 [00:09<06:29, 286.19it/s]/tmp/ipykernel_1311420/1761233754.py:15: UserWarning: loadtxt: input contained no data: \"/home/kjetil/projects/across/machinelearning/across_review/ert_example/data_big/larger_data_3_952.txt\"\n",
      "  data = reorder_data(np.loadtxt(path))\n",
      "100%|█████████████████████████████████████████████████████████████████████████████████████████████████████████████████████████████████████████████████████████████████████████████████████████| 114124/114124 [07:03<00:00, 269.38it/s]"
     ]
    },
    {
     "name": "stdout",
     "output_type": "stream",
     "text": [
      "len(all_data)=114123\n"
     ]
    },
    {
     "name": "stderr",
     "output_type": "stream",
     "text": [
      "\n",
      "/tmp/ipykernel_1311420/1761233754.py:30: UserWarning: Creating a tensor from a list of numpy.ndarrays is extremely slow. Please consider converting the list to a single numpy.ndarray with numpy.array() before converting to a tensor. (Triggered internally at ../torch/csrc/utils/tensor_new.cpp:230.)\n",
      "  return torch.tensor(all_data)\n"
     ]
    }
   ],
   "source": [
    "data = get_all_data_from_file(data_basepath)"
   ]
  },
  {
   "cell_type": "code",
   "execution_count": 5,
   "id": "3c665472",
   "metadata": {},
   "outputs": [
    {
     "name": "stdout",
     "output_type": "stream",
     "text": [
      "torch.Size([114123, 1, 16, 20, 20])\n",
      "model.dnn_down(data).shape=torch.Size([114123, 1, 4, 5, 5])\n",
      "model.forward(data).shape=torch.Size([114123, 1, 16, 20, 20])\n",
      "data.shape=torch.Size([114123, 1, 16, 20, 20])\n",
      "nn.MSELoss()(model.forward(data), data)=tensor(120785.1406, grad_fn=<MseLossBackward0>)\n"
     ]
    }
   ],
   "source": [
    "print(data.shape)\n",
    "print(f\"{model.dnn_down(data).shape=}\")\n",
    "print(f\"{model.forward(data).shape=}\")\n",
    "print(f\"{data.shape=}\")\n",
    "print(f\"{nn.MSELoss()(model.forward(data), data)=}\")"
   ]
  },
  {
   "cell_type": "code",
   "execution_count": 6,
   "id": "afb9eae2",
   "metadata": {},
   "outputs": [
    {
     "data": {
      "text/plain": [
       "torch.Size([114123, 1, 16, 20, 20])"
      ]
     },
     "execution_count": 6,
     "metadata": {},
     "output_type": "execute_result"
    }
   ],
   "source": [
    "data.shape"
   ]
  },
  {
   "cell_type": "code",
   "execution_count": null,
   "id": "c26f506d",
   "metadata": {},
   "outputs": [
    {
     "name": "stderr",
     "output_type": "stream",
     "text": [
      " 27%|██████████████████████████████████▌                                                                                             | 27/100 [17:03<54:29, 44.79s/it, epoch=27, shape=torch.Size([11, 1, 16, 20, 20]), train_loss=539]"
     ]
    }
   ],
   "source": [
    "optimizer = torch.optim.Adam(model.parameters(), lr=0.001)\n",
    "n_epochs = 100\n",
    "loss_function = nn.MSELoss()\n",
    "train_loader = torch.utils.data.DataLoader(data, batch_size=32, num_workers=0)\n",
    "loss_per_epoch = []\n",
    "with trange(1, n_epochs + 1) as t:\n",
    "    for epoch in t:\n",
    "        train_loss = 0.0\n",
    "\n",
    "        for samples in train_loader:\n",
    "            optimizer.zero_grad()\n",
    "            outputs = model(samples)\n",
    "            loss = loss_function(outputs, samples)\n",
    "            loss.backward()\n",
    "            optimizer.step()\n",
    "            train_loss += loss.item()*samples.size(0)\n",
    "\n",
    "        train_loss = train_loss/len(train_loader)\n",
    "        t.set_postfix(epoch=epoch, train_loss=train_loss, shape=samples.shape)\n",
    "        loss_per_epoch.append(train_loss)\n",
    "        \n",
    "plt.loglog(np.arange(1, n_epochs+1), loss_per_epoch)\n",
    "plt.xlabel(\"Epoch\")\n",
    "plt.ylabel(\"MSE Loss\")\n",
    "plt.show()"
   ]
  },
  {
   "cell_type": "code",
   "execution_count": null,
   "id": "36fd7c21",
   "metadata": {},
   "outputs": [],
   "source": [
    "x = torch.tensor(np.zeros((4,5)))"
   ]
  },
  {
   "cell_type": "code",
   "execution_count": null,
   "id": "31e991a8",
   "metadata": {},
   "outputs": [],
   "source": [
    "model.dnn_down(data[0, :, :]).shape"
   ]
  },
  {
   "cell_type": "code",
   "execution_count": null,
   "id": "6e7ff6de",
   "metadata": {},
   "outputs": [],
   "source": [
    "plt.plot(data[0, 0, :], label='True (300 datapoints)')\n",
    "plt.plot(model.forward(data[0,:,:]).detach().numpy()[0,:], label='CAE (75 datapoints)')\n",
    "plt.plot(np.repeat(data[0, 0, ::4], 4), '--', label='75 datapoints (no CAE)')\n",
    "plt.xlabel(\"Linearized xyz index\")\n",
    "plt.ylabel(\"Pressure\")\n",
    "plt.legend()\n"
   ]
  },
  {
   "cell_type": "code",
   "execution_count": null,
   "id": "2c7905f9",
   "metadata": {},
   "outputs": [],
   "source": [
    "model_ert = NeuralNetwork()\n",
    "model_ert.load_state_dict(torch.load('../ert_example/data_learning/training_model.torch'))\n",
    "model_ert.eval()"
   ]
  },
  {
   "cell_type": "code",
   "execution_count": null,
   "id": "3a61ddb3",
   "metadata": {},
   "outputs": [],
   "source": [
    "plt.plot(data[0, 0, :], label='True (300 datapoints)')\n",
    "plt.plot(model_ert.forward(data[0,:,:]).detach().numpy()[0,:], label='CAE (75 datapoints)')\n",
    "plt.plot(np.repeat(data[0, 0, ::4], 4), '--', label='75 datapoints (no CAE)')\n",
    "plt.xlabel(\"Linearized xyz index\")\n",
    "plt.ylabel(\"Pressure\")\n",
    "plt.legend()\n"
   ]
  },
  {
   "cell_type": "code",
   "execution_count": null,
   "id": "4aac30e3",
   "metadata": {},
   "outputs": [],
   "source": [
    "plt.plot(data[0, 0, :], label='True (300 datapoints)')\n",
    "plt.plot(data[0, 0, ::10].repeat(10), label='True (300 datapoints)')"
   ]
  },
  {
   "cell_type": "code",
   "execution_count": null,
   "id": "4da51287",
   "metadata": {},
   "outputs": [],
   "source": [
    "z = np.zeros((3, 10, 10))\n",
    "x = data[0, 0, :]\n",
    "nx = 10\n",
    "ny = 10\n",
    "nz = 3\n",
    "for i in range(nz):\n",
    "    for j in range(ny):\n",
    "        for k in range(nx):\n",
    "            index = i*ny * nx + j * nx + i\n",
    "            z[i,j,k] = x[index]"
   ]
  },
  {
   "cell_type": "code",
   "execution_count": null,
   "id": "c73b726c",
   "metadata": {},
   "outputs": [],
   "source": [
    "plt.pcolormesh(z.reshape(3, 100))\n",
    "plt.colorbar()"
   ]
  },
  {
   "cell_type": "code",
   "execution_count": null,
   "id": "1df9ccdf",
   "metadata": {},
   "outputs": [],
   "source": [
    "data[0, 0, :]"
   ]
  },
  {
   "cell_type": "code",
   "execution_count": null,
   "id": "7a320a0f",
   "metadata": {},
   "outputs": [],
   "source": [
    "plt.pcolormesh(data[8,0,5,:,:])"
   ]
  },
  {
   "cell_type": "code",
   "execution_count": null,
   "id": "4aff877a",
   "metadata": {},
   "outputs": [],
   "source": []
  }
 ],
 "metadata": {
  "kernelspec": {
   "display_name": "phnn_latest",
   "language": "python",
   "name": "phnn_latest"
  },
  "language_info": {
   "codemirror_mode": {
    "name": "ipython",
    "version": 3
   },
   "file_extension": ".py",
   "mimetype": "text/x-python",
   "name": "python",
   "nbconvert_exporter": "python",
   "pygments_lexer": "ipython3",
   "version": "3.10.9"
  }
 },
 "nbformat": 4,
 "nbformat_minor": 5
}
